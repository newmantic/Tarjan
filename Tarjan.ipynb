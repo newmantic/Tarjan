{
  "nbformat": 4,
  "nbformat_minor": 0,
  "metadata": {
    "colab": {
      "provenance": [],
      "authorship_tag": "ABX9TyOZxOGCNlWyq3C0lei57hL7",
      "include_colab_link": true
    },
    "kernelspec": {
      "name": "python3",
      "display_name": "Python 3"
    },
    "language_info": {
      "name": "python"
    }
  },
  "cells": [
    {
      "cell_type": "markdown",
      "metadata": {
        "id": "view-in-github",
        "colab_type": "text"
      },
      "source": [
        "<a href=\"https://colab.research.google.com/github/newmantic/Tarjan/blob/main/Tarjan.ipynb\" target=\"_parent\"><img src=\"https://colab.research.google.com/assets/colab-badge.svg\" alt=\"Open In Colab\"/></a>"
      ]
    },
    {
      "cell_type": "code",
      "execution_count": 1,
      "metadata": {
        "id": "qIcr3OXh8OC3"
      },
      "outputs": [],
      "source": [
        "class Graph:\n",
        "    def __init__(self, vertices):\n",
        "        self.V = vertices  # Number of vertices\n",
        "        self.adj = [[] for _ in range(vertices)]  # Adjacency list\n",
        "        self.index = 0  # Index for assigning ids\n",
        "        self.stack = []  # Stack to keep track of visited nodes\n",
        "        self.lowlink = [-1] * vertices  # Lowest index reachable\n",
        "        self.indexes = [-1] * vertices  # To store the index of each node\n",
        "        self.sccs = []  # List to store the strongly connected components\n",
        "\n",
        "    def add_edge(self, u, v):\n",
        "        self.adj[u].append(v)  # Add edge to the adjacency list\n",
        "\n",
        "    def strongconnect(self, v):\n",
        "        self.indexes[v] = self.index\n",
        "        self.lowlink[v] = self.index\n",
        "        self.index += 1\n",
        "        self.stack.append(v)\n",
        "\n",
        "        # Consider successors of v\n",
        "        for w in self.adj[v]:\n",
        "            if self.indexes[w] == -1:  # Successor w has not yet been visited\n",
        "                self.strongconnect(w)\n",
        "                self.lowlink[v] = min(self.lowlink[v], self.lowlink[w])\n",
        "            elif w in self.stack:  # Successor w is in the stack (i.e., in the current SCC)\n",
        "                self.lowlink[v] = min(self.lowlink[v], self.indexes[w])\n",
        "\n",
        "        # If v is a root node, pop the stack and generate an SCC\n",
        "        if self.lowlink[v] == self.indexes[v]:\n",
        "            current_scc = []\n",
        "            while True:\n",
        "                w = self.stack.pop()\n",
        "                current_scc.append(w)\n",
        "                if w == v:\n",
        "                    break\n",
        "            self.sccs.append(current_scc)\n",
        "\n",
        "    def find_sccs(self):\n",
        "        for v in range(self.V):\n",
        "            if self.indexes[v] == -1:\n",
        "                self.strongconnect(v)\n",
        "        return self.sccs\n"
      ]
    },
    {
      "cell_type": "code",
      "source": [
        "# Example test cases\n",
        "def test_tarjan():\n",
        "    # Create a graph instance\n",
        "    g = Graph(5)\n",
        "\n",
        "    # Add edges\n",
        "    g.add_edge(0, 1)\n",
        "    g.add_edge(1, 2)\n",
        "    g.add_edge(2, 0)  # Strongly connected component 0, 1, 2\n",
        "    g.add_edge(1, 3)\n",
        "    g.add_edge(3, 4)\n",
        "\n",
        "    # Find strongly connected components\n",
        "    sccs = g.find_sccs()\n",
        "\n",
        "    print(\"Strongly Connected Components:\")\n",
        "    for scc in sccs:\n",
        "        print(scc)\n"
      ],
      "metadata": {
        "id": "xm8WUuck8g5G"
      },
      "execution_count": 2,
      "outputs": []
    },
    {
      "cell_type": "code",
      "source": [
        "def additional_tests():\n",
        "    # Test Case 1: Simple cycle\n",
        "    g1 = Graph(3)\n",
        "    g1.add_edge(0, 1)\n",
        "    g1.add_edge(1, 2)\n",
        "    g1.add_edge(2, 0)  # All nodes form one SCC\n",
        "    print(\"Test Case 1:\")\n",
        "    print(g1.find_sccs())\n",
        "\n",
        "    # Test Case 2: Disconnected graph\n",
        "    g2 = Graph(6)\n",
        "    g2.add_edge(0, 1)\n",
        "    g2.add_edge(1, 0)  # SCC: [0, 1]\n",
        "    g2.add_edge(2, 3)\n",
        "    g2.add_edge(3, 2)  # SCC: [2, 3]\n",
        "    g2.add_edge(4, 5)  # SCC: [4], single node with no edge\n",
        "    print(\"Test Case 2:\")\n",
        "    print(g2.find_sccs())\n",
        "\n",
        "    # Test Case 3: More complex graph\n",
        "    g3 = Graph(7)\n",
        "    g3.add_edge(0, 1)\n",
        "    g3.add_edge(1, 2)\n",
        "    g3.add_edge(2, 0)  # SCC: [0, 1, 2]\n",
        "    g3.add_edge(1, 3)\n",
        "    g3.add_edge(3, 4)\n",
        "    g3.add_edge(4, 5)\n",
        "    g3.add_edge(5, 3)  # SCC: [3, 4, 5]\n",
        "    g3.add_edge(6, 5)  # Node 6 points to node 5 (but does not form an SCC)\n",
        "    print(\"Test Case 3:\")\n",
        "    print(g3.find_sccs())\n",
        "\n",
        "\n",
        "# Run the tests\n",
        "test_tarjan()\n",
        "additional_tests()"
      ],
      "metadata": {
        "colab": {
          "base_uri": "https://localhost:8080/"
        },
        "id": "nnAqxk9A8jqy",
        "outputId": "a2d5d553-013c-463b-dfce-7f9b3a9a0d4f"
      },
      "execution_count": 3,
      "outputs": [
        {
          "output_type": "stream",
          "name": "stdout",
          "text": [
            "Strongly Connected Components:\n",
            "[4]\n",
            "[3]\n",
            "[2, 1, 0]\n",
            "Test Case 1:\n",
            "[[2, 1, 0]]\n",
            "Test Case 2:\n",
            "[[1, 0], [3, 2], [5], [4]]\n",
            "Test Case 3:\n",
            "[[5, 4, 3], [2, 1, 0], [6]]\n"
          ]
        }
      ]
    }
  ]
}